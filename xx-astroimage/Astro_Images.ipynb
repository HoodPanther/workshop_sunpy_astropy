{
 "cells": [
  {
   "cell_type": "code",
   "execution_count": 2,
   "metadata": {
    "autoscroll": "json-false",
    "collapsed": false,
    "ein.tags": [
     "worksheet-0"
    ]
   },
   "outputs": [],
   "source": [
    "from __future__ import print_function, division"
   ]
  },
  {
   "cell_type": "markdown",
   "metadata": {
    "ein.tags": [
     "worksheet-0"
    ]
   },
   "source": [
    "# Images in Astronomy"
   ]
  },
  {
   "cell_type": "markdown",
   "metadata": {
    "ein.tags": [
     "worksheet-0"
    ]
   },
   "source": [
    "In this lesson we are going to look at aspects of processing and viewing images specific to Astronomy and Solar Astronomy. By the end of this lesson you should understand:\n",
    "\n",
    "* Projected Coordinate Systems in Images\n",
    "* World Coordinate Systems\n",
    "* Using WCS to calculate coordinates in images\n",
    "* Plotting images with WCS in images\n",
    "* Using SunPy Map"
   ]
  },
  {
   "cell_type": "markdown",
   "metadata": {
    "ein.tags": [
     "worksheet-0"
    ]
   },
   "source": [
    "## Projected Coordinate Systems"
   ]
  },
  {
   "cell_type": "markdown",
   "metadata": {
    "ein.tags": [
     "worksheet-0"
    ]
   },
   "source": [
    "When observing the sky using the stars appear to be 'projected' onto the celsital sphere. In that there is no distance coordinate and the physical location of any feature in the image can be described in a two dimensional coordinate system.\n",
    "\n",
    "There are multiple coordinate systems used to describe the locations in 2D and 3D space for both Astronomy and Solar Physics. We shall use a couple of these systems here as examples but if you want to know more about them there are many of resources avalible."
   ]
  },
  {
   "cell_type": "markdown",
   "metadata": {
    "ein.tags": [
     "worksheet-0"
    ]
   },
   "source": [
    "### World Coordinate System"
   ]
  },
  {
   "cell_type": "markdown",
   "metadata": {
    "ein.tags": [
     "worksheet-0"
    ]
   },
   "source": [
    "The FITS files have a standard for describing the physical coordinate system associated with imaging data, this is called the world coordinate system or WCS, sometimes the specific FITS version of this is referred to as FITS-WCS.\n",
    "\n",
    "There are multiple papers describing the FITS-WCS standard for various types of data, there is a list here: http://fits.gsfc.nasa.gov/fits_wcs.html"
   ]
  },
  {
   "cell_type": "markdown",
   "metadata": {
    "ein.tags": [
     "worksheet-0"
    ]
   },
   "source": [
    "As you learned in the previous lesson we can load FITS files with Astropy. To demonstrate a simple example of a FITS file with FITS-WCS information in the header we shall use an image from SunPy:"
   ]
  },
  {
   "cell_type": "code",
   "execution_count": 3,
   "metadata": {
    "autoscroll": "json-false",
    "collapsed": false,
    "ein.tags": [
     "worksheet-0"
    ]
   },
   "outputs": [
    {
     "name": "stdout",
     "output_type": "stream",
     "text": [
      "SIMPLE True\n",
      "BITPIX 32\n",
      "NAXIS 2\n",
      "NAXIS1 1024\n",
      "NAXIS2 1024\n",
      "EXTEND True\n",
      "COMMENT   FITS (Flexible Image Transport System) format is defined in 'Astronomy\n",
      "COMMENT   and Astrophysics', volume 376, page 359; bibcode: 2001A&A...376..359H\n",
      "ORIGIN SDO/JSOC-SDP\n",
      "DATE 2011-03-19T11:08:25\n",
      "TELESCOP SDO/AIA\n",
      "INSTRUME AIA_3\n",
      "DATE-OBS 2011-03-19T10:54:00.34\n",
      "T_OBS 2011-03-19T10:54:01.34Z\n",
      "TOBSSTEP 90.0\n",
      "TOBSEPOC 1977.01.01_00:00:00_TAI\n",
      "CAMERA 3\n",
      "IMG_TYPE LIGHT\n",
      "EXPTIME 1.999601\n",
      "EXPSDEV 0.00016\n",
      "INT_TIME 2.273438\n",
      "WAVELNTH 171\n",
      "WAVEUNIT angstrom\n",
      "WAVE_STR 171_THIN\n",
      "FSN 22642033\n",
      "FID 0\n",
      "LVL_NUM 1.5\n",
      "QUALLEV0 0\n",
      "QUALITY 1073741824\n",
      "TOTVALS 16777216\n",
      "DATAVALS 16777216\n",
      "MISSVALS 0\n",
      "PERCENTD 100.0\n",
      "DATAMIN -7\n",
      "DATAMAX 16228\n",
      "DATAMEDN 192\n",
      "DATAMEAN 236.57\n",
      "DATARMS 294.02\n",
      "DATASKEW 4.63\n",
      "DATAKURT 49.56\n",
      "OSCNMEAN nan\n",
      "OSCNRMS nan\n",
      "FLAT_REC aia.flatfield[:#7]\n",
      "CTYPE1 HPLN-TAN\n",
      "CUNIT1 arcsec\n",
      "CRVAL1 0.0\n",
      "CDELT1 2.4\n",
      "CRPIX1 512.5\n",
      "CTYPE2 HPLT-TAN\n",
      "CUNIT2 arcsec\n",
      "CRVAL2 0.0\n",
      "CDELT2 2.4\n",
      "CRPIX2 512.5\n",
      "CROTA2 0.0\n",
      "R_SUN 1608.94397\n",
      "MPO_REC sdo.master_pointing[:#116]\n",
      "INST_ROT 0.102488\n",
      "IMSCL_MP 0.599076\n",
      "X0_MP 2052.399902\n",
      "Y0_MP 2046.589966\n",
      "RSUN_LF nan\n",
      "X0_LF nan\n",
      "Y0_LF nan\n",
      "ASD_REC sdo.lev0_asd_0004[:#8948067]\n",
      "SAT_Y0 -0.365593\n",
      "SAT_Z0 14.820671\n",
      "SAT_ROT -8.8e-05\n",
      "ACS_MODE SCIENCE\n",
      "ACS_ECLP NO\n",
      "ACS_SUNP YES\n",
      "ACS_SAFE NO\n",
      "ACS_CGT GT3\n",
      "ORB_REC sdo.fds_orbit_vectors[2011.03.19_10:54:00_UTC]\n",
      "DSUN_REF 1.49597870691e+11\n",
      "DSUN_OBS 1.48940609627e+11\n",
      "RSUN_REF 696000000.0\n",
      "RSUN_OBS 963.879683\n",
      "GCIEC_X nan\n",
      "GCIEC_Y nan\n",
      "GCIEC_Z nan\n",
      "HCIEC_X nan\n",
      "HCIEC_Y nan\n",
      "HCIEC_Z nan\n",
      "OBS_VR -2132.568376\n",
      "OBS_VW 30775.731671\n",
      "OBS_VN 2177.6711\n",
      "CRLN_OBS 315.285065\n",
      "CRLT_OBS -7.064078\n",
      "CAR_ROT 2108\n",
      "ROI_NWIN -2147483648\n",
      "ROI_SUM -2147483648\n",
      "ROI_NAX1 -2147483648\n",
      "ROI_NAY1 -2147483648\n",
      "ROI_LLX1 -2147483648\n",
      "ROI_LLY1 -2147483648\n",
      "ROI_NAX2 -2147483648\n",
      "ROI_NAY2 -2147483648\n",
      "ROI_LLX2 -2147483648\n",
      "ROI_LLY2 -2147483648\n",
      "ISPSNAME aia.lev0_isp_0011\n",
      "ISPPKTIM 2011-03-19T10:53:57.50Z\n",
      "ISPPKTVN 001.197\n",
      "AIVNMST 453\n",
      "AIMGOTS 1679223275\n",
      "ASQHDR 2170125681\n",
      "ASQTNUM 2\n",
      "ASQFSN 22642033\n",
      "AIAHFSN 22642025\n",
      "AECDELAY 1540\n",
      "AIAECTI 0\n",
      "AIASEN 0\n",
      "AIFDBID 241\n",
      "AIMGOTSS 5339\n",
      "AIFCPS 10\n",
      "AIFTSWTH 0\n",
      "AIFRMLID 3024\n",
      "AIFTSID 40960\n",
      "AIHISMXB 7\n",
      "AIHIS192 8381297\n",
      "AIHIS348 8388262\n",
      "AIHIS604 8388597\n",
      "AIHIS860 8388603\n",
      "AIFWEN 204\n",
      "AIMGSHCE 2000\n",
      "AECTYPE 0\n",
      "AECMODE ON\n",
      "AISTATE CLOSED\n",
      "AIAECENF 1\n",
      "AIFILTYP 0\n",
      "AIMSHOBC 41.099998\n",
      "AIMSHOBE 26.076\n",
      "AIMSHOTC 55.312\n",
      "AIMSHOTE 69.316002\n",
      "AIMSHCBC 2040.791992\n",
      "AIMSHCBE 2025.864014\n",
      "AIMSHCTC 2054.875977\n",
      "AIMSHCTE 2068.676025\n",
      "AICFGDL1 0\n",
      "AICFGDL2 137\n",
      "AICFGDL3 201\n",
      "AICFGDL4 236\n",
      "AIFOENFL 1\n",
      "AIMGFSN 5\n",
      "AIMGTYP 0\n",
      "AIAWVLEN 7\n",
      "AIAGP1 0\n",
      "AIAGP2 0\n",
      "AIAGP3 0\n",
      "AIAGP4 0\n",
      "AIAGP5 0\n",
      "AIAGP6 0\n",
      "AIAGP7 0\n",
      "AIAGP8 393\n",
      "AIAGP9 457\n",
      "AIAGP10 748\n",
      "AGT1SVY 18\n",
      "AGT1SVZ 10\n",
      "AGT2SVY 10\n",
      "AGT2SVZ 8\n",
      "AGT3SVY 2\n",
      "AGT3SVZ 0\n",
      "AGT4SVY 14\n",
      "AGT4SVZ 0\n",
      "AIMGSHEN 4\n",
      "RECNUM 76202\n",
      "BLANK -2147483648\n",
      "BZERO 0.0\n",
      "BSCALE 0.0625\n",
      "CHECKSUM J7qAL7o6J7oAJ7o5\n",
      "DATASUM 3958014355\n"
     ]
    }
   ],
   "source": [
    "from sunpy.data.sample import AIA_171_IMAGE\n",
    "from astropy.io import fits\n",
    "\n",
    "hdulist = fits.open(AIA_171_IMAGE)\n",
    "hdulist.verify('silentfix')\n",
    "for k, v in hdulist[0].header.items():\n",
    "    print(k, v)"
   ]
  },
  {
   "cell_type": "markdown",
   "metadata": {
    "ein.tags": [
     "worksheet-0"
    ]
   },
   "source": [
    "As you can see there are lots of keys in this and most other real world FITS headers. The ones we need to understand for FITS-WCS are:"
   ]
  },
  {
   "cell_type": "markdown",
   "metadata": {
    "ein.tags": [
     "worksheet-0"
    ]
   },
   "source": [
    "Reference Pixel and Coordinate:"
   ]
  },
  {
   "cell_type": "code",
   "execution_count": 4,
   "metadata": {
    "autoscroll": "json-false",
    "collapsed": false,
    "ein.tags": [
     "worksheet-0"
    ]
   },
   "outputs": [
    {
     "name": "stdout",
     "output_type": "stream",
     "text": [
      "0.0 0.0\n",
      "512.5 512.5\n"
     ]
    }
   ],
   "source": [
    "header = hdulist[0].header\n",
    "\n",
    "print(header['CRVAL1'], header['CRVAL2'])\n",
    "print(header['CRPIX1'], header['CRPIX2'])"
   ]
  },
  {
   "cell_type": "markdown",
   "metadata": {
    "ein.tags": [
     "worksheet-0"
    ]
   },
   "source": [
    "Grid Size:"
   ]
  },
  {
   "cell_type": "code",
   "execution_count": 5,
   "metadata": {
    "autoscroll": "json-false",
    "collapsed": false,
    "ein.tags": [
     "worksheet-0"
    ]
   },
   "outputs": [
    {
     "name": "stdout",
     "output_type": "stream",
     "text": [
      "2.4 2.4\n"
     ]
    }
   ],
   "source": [
    "print(header['CDELT1'], header['CDELT2'])"
   ]
  },
  {
   "cell_type": "markdown",
   "metadata": {
    "ein.tags": [
     "worksheet-0"
    ]
   },
   "source": [
    "Rotation Information:"
   ]
  },
  {
   "cell_type": "code",
   "execution_count": 6,
   "metadata": {
    "autoscroll": "json-false",
    "collapsed": false,
    "ein.tags": [
     "worksheet-0"
    ]
   },
   "outputs": [
    {
     "name": "stdout",
     "output_type": "stream",
     "text": [
      "0.0\n"
     ]
    }
   ],
   "source": [
    "print(header['CROTA2'])"
   ]
  },
  {
   "cell_type": "markdown",
   "metadata": {
    "ein.tags": [
     "worksheet-0"
    ]
   },
   "source": [
    "Coordinate System and Projection:"
   ]
  },
  {
   "cell_type": "code",
   "execution_count": 19,
   "metadata": {
    "autoscroll": "json-false",
    "collapsed": false,
    "ein.tags": [
     "worksheet-0"
    ]
   },
   "outputs": [
    {
     "name": "stdout",
     "output_type": "stream",
     "text": [
      "HPLN-TAN HPLT-TAN\n"
     ]
    }
   ],
   "source": [
    "print(header['CTYPE1'], header['CTYPE2'])"
   ]
  },
  {
   "cell_type": "markdown",
   "metadata": {
    "ein.tags": [
     "worksheet-0"
    ]
   },
   "source": [
    "We could now sit down and work out how to convert from a pixel coordinate to a physical coordinate described by this header (Helioprojective).\n",
    "\n",
    "However, we can cheat and just use Astropy."
   ]
  },
  {
   "cell_type": "code",
   "execution_count": 7,
   "metadata": {
    "autoscroll": "json-false",
    "collapsed": false,
    "ein.tags": [
     "worksheet-0"
    ]
   },
   "outputs": [
    {
     "name": "stdout",
     "output_type": "stream",
     "text": [
      "       flag: 137\n",
      "      naxis: 2\n",
      "      crpix: 0x2f5f060\n",
      "               512.5        512.5     \n",
      "         pc: 0x2a00900\n",
      "    pc[0][]:   1           -0         \n",
      "    pc[1][]:   0            1         \n",
      "      cdelt: 0x47d3800\n",
      "               0.00066667   0.00066667\n",
      "      crval: 0x2e34990\n",
      "               0            0         \n",
      "      cunit: 0x2fbfc70\n",
      "             \"deg\"\n",
      "             \"deg\"\n",
      "      ctype: 0x2d89e10\n",
      "             \"HPLN-TAN\"\n",
      "             \"HPLT-TAN\"\n",
      "    lonpole: 180.000000\n",
      "    latpole:  0.000000\n",
      "    restfrq: 0.000000\n",
      "    restwav: 0.000000\n",
      "        npv: 0\n",
      "     npvmax: 0\n",
      "         pv: 0x0\n",
      "        nps: 0\n",
      "     npsmax: 0\n",
      "         ps: 0x0\n",
      "         cd: 0x2e48b40\n",
      "    cd[0][]:   0            0         \n",
      "    cd[1][]:   0            0         \n",
      "      crota: 0x2f48930\n",
      "               0            0         \n",
      "     altlin: 4\n",
      "     velref: 0\n",
      "        alt: ' '\n",
      "     colnum: 0\n",
      "      colax: 0x2e34db0\n",
      "                 0      0\n",
      "    wcsname: UNDEFINED\n",
      "      cname: 0x2d844a0\n",
      "             UNDEFINED\n",
      "             UNDEFINED\n",
      "      crder: 0x2e36a60\n",
      "             UNDEFINED     UNDEFINED   \n",
      "      csyer: 0x2d95530\n",
      "             UNDEFINED     UNDEFINED   \n",
      "    radesys: UNDEFINED\n",
      "    equinox: UNDEFINED\n",
      "    specsys: UNDEFINED\n",
      "    ssysobs: UNDEFINED\n",
      "    velosys: UNDEFINED\n",
      "    ssyssrc: UNDEFINED\n",
      "    zsource: UNDEFINED\n",
      "     obsgeo: UNDEFINED     UNDEFINED     UNDEFINED     \n",
      "    dateobs: \"2011-03-19T10:54:00.34\"\n",
      "    dateavg: UNDEFINED\n",
      "     mjdobs: 55639.454171\n",
      "     mjdavg: UNDEFINED\n",
      "       ntab: 0\n",
      "        tab: 0x0\n",
      "       nwtb: 0\n",
      "        wtb: 0x0\n",
      "      types: 0x2d97210\n",
      "            2200 2201\n",
      "     lngtyp: \"HPLN\"\n",
      "     lattyp: \"HPLT\"\n",
      "        lng: 0\n",
      "        lat: 1\n",
      "       spec: -1\n",
      "   cubeface: -1\n",
      "        err: 0x0\n",
      "        lin: (see below)\n",
      "        cel: (see below)\n",
      "        spc: (see below)\n",
      "     m_flag: 137\n",
      "    m_naxis: 2\n",
      "    m_crpix: 0x2f5f060  (= crpix)\n",
      "       m_pc: 0x2a00900  (= pc)\n",
      "    m_cdelt: 0x47d3800  (= cdelt)\n",
      "    m_crval: 0x2e34990  (= crval)\n",
      "    m_cunit: 0x2fbfc70  (= cunit)\n",
      "    m_ctype: 0x2d89e10  (= ctype)\n",
      "       m_pv: 0x0  (= pv)\n",
      "       m_ps: 0x0  (= ps)\n",
      "       m_cd: 0x2e48b40  (= cd)\n",
      "    m_crota: 0x2f48930  (= crota)\n",
      "\n",
      "    m_colax: 0x2e34db0  (= colax)\n",
      "    m_cname: 0x2d844a0  (= cname)\n",
      "    m_crder: 0x2e36a60  (= crder)\n",
      "    m_csyer: 0x2d95530  (= csyer)\n",
      "      m_tab: 0x0  (= tab)\n",
      "      m_wtb: 0x0  (= wtb)\n",
      "\n",
      "   lin.*\n",
      "       flag: 137\n",
      "      naxis: 2\n",
      "      crpix: 0x2f5f060\n",
      "               512.5        512.5     \n",
      "         pc: 0x2a00900\n",
      "    pc[0][]:   1           -0         \n",
      "    pc[1][]:   0            1         \n",
      "      cdelt: 0x47d3800\n",
      "               0.00066667   0.00066667\n",
      "      unity: 1\n",
      "        err: 0x0\n",
      "     piximg: (nil)\n",
      "     imgpix: (nil)\n",
      "     m_flag: 0\n",
      "    m_naxis: 0\n",
      "    m_crpix: 0x0\n",
      "       m_pc: 0x0\n",
      "    m_cdelt: 0x0\n",
      "\n",
      "   cel.*\n",
      "      flag: 137\n",
      "     offset: 0\n",
      "       phi0:  0.000000\n",
      "     theta0: 90.000000\n",
      "       ref:   0            0            180          0         \n",
      "       prj: (see below)\n",
      "     euler:   0            90           180          6.1232e-17   1         \n",
      "    latpreq: 0 (not required)\n",
      "     isolat: 0\n",
      "        err: 0x0\n",
      "\n",
      "   prj.*\n",
      "       flag: 103\n",
      "       code: \"TAN\"\n",
      "         r0: 57.295780\n",
      "         pv: (not used)\n",
      "       phi0:  0.000000\n",
      "     theta0: 90.000000\n",
      "     bounds: 7\n",
      "\n",
      "       name: \"gnomonic\"\n",
      "   category: 1 (zenithal)\n",
      "    pvrange: 0\n",
      "  simplezen: 1\n",
      "  equiareal: 0\n",
      "  conformal: 0\n",
      "     global: 0\n",
      "  divergent: 1\n",
      "         x0: 0.000000\n",
      "         y0: 0.000000\n",
      "        err: 0x0\n",
      "        w[]:   0            0            0            0            0         \n",
      "               0            0            0            0            0         \n",
      "          m: 0\n",
      "          n: 0\n",
      "     prjx2s: 0x7f394dac9b60\n",
      "     prjs2x: 0x7f394dacf490\n",
      "\n",
      "   spc.*\n",
      "       flag: 0\n",
      "       type: \"    \"\n",
      "       code: \"   \"\n",
      "      crval: UNDEFINED\n",
      "    restfrq: 0.000000\n",
      "    restwav: 0.000000\n",
      "         pv: (not used)\n",
      "          w:   0            0            0           (remainder unused)\n",
      "    isGrism: 0\n",
      "        err: 0x0\n",
      "     spxX2P: 0x0\n",
      "     spxP2S: 0x0\n",
      "     spxS2P: 0x0\n",
      "     spxP2X: 0x0\n",
      "\n"
     ]
    }
   ],
   "source": [
    "from astropy.wcs import WCS\n",
    "\n",
    "wcs = WCS(header)\n",
    "print(wcs.wcs)"
   ]
  },
  {
   "cell_type": "markdown",
   "metadata": {
    "ein.tags": [
     "worksheet-0"
    ]
   },
   "source": [
    "We can convert from pixel to world coordinate:"
   ]
  },
  {
   "cell_type": "code",
   "execution_count": 8,
   "metadata": {
    "autoscroll": "json-false",
    "collapsed": false,
    "ein.tags": [
     "worksheet-0"
    ]
   },
   "outputs": [
    {
     "data": {
      "text/plain": [
       "array([[  3.59725002e+02,  -2.74994721e-01]])"
      ]
     },
     "execution_count": 8,
     "metadata": {},
     "output_type": "execute_result"
    }
   ],
   "source": [
    "wcs.wcs_pix2world(((100, 100),), 1)"
   ]
  },
  {
   "cell_type": "markdown",
   "metadata": {
    "ein.tags": [
     "worksheet-0"
    ]
   },
   "source": [
    "Or back again:"
   ]
  },
  {
   "cell_type": "code",
   "execution_count": 9,
   "metadata": {
    "autoscroll": "json-false",
    "collapsed": false,
    "ein.tags": [
     "worksheet-0"
    ]
   },
   "outputs": [
    {
     "data": {
      "text/plain": [
       "array([[ 99.99983249,  99.99999987]])"
      ]
     },
     "execution_count": 9,
     "metadata": {},
     "output_type": "execute_result"
    }
   ],
   "source": [
    "wcs.wcs_world2pix([[3.59725002e+02,  -2.74994721e-01]], 1)"
   ]
  },
  {
   "cell_type": "markdown",
   "metadata": {
    "ein.tags": [
     "worksheet-0"
    ]
   },
   "source": [
    "<section class=\"objectives panel panel-success\">\n",
    "<div class=\"panel-heading\">\n",
    "<h2><span class=\"fa fa-pencil\"></span> How large is the image? </h2>\n",
    "</div>\n",
    "<br/>\n",
    "To get a little practise using Astropy's WCS calculate the world coordinates of the following pixels:\n",
    "<code>\n",
    "[-500, 0]\n",
    "[500, 500]\n",
    "[0, 0]\n",
    "</code>\n",
    "<br/>\n",
    "</section>"
   ]
  },
  {
   "cell_type": "code",
   "execution_count": 10,
   "metadata": {
    "autoscroll": "json-false",
    "collapsed": false,
    "ein.tags": [
     "worksheet-0"
    ]
   },
   "outputs": [
    {
     "name": "stdout",
     "output_type": "stream",
     "text": [
      "[[  3.59325031e+02  -3.41638910e-01]]\n",
      "[[  3.59991667e+02  -8.33333319e-03]]\n",
      "[[  3.59658337e+02  -3.41656542e-01]]\n"
     ]
    }
   ],
   "source": [
    "print(wcs.wcs_pix2world(((-500, 0),), 1))\n",
    "print(wcs.wcs_pix2world(((500, 500),), 1))\n",
    "print(wcs.wcs_pix2world(((0, 0),), 1))"
   ]
  },
  {
   "cell_type": "markdown",
   "metadata": {
    "ein.tags": [
     "worksheet-0"
    ]
   },
   "source": [
    "## Plotting with wcsaxes"
   ]
  },
  {
   "cell_type": "markdown",
   "metadata": {
    "ein.tags": [
     "worksheet-0"
    ]
   },
   "source": [
    "In this section we are going to use the wcsaxes package to make WCS aware image plots."
   ]
  },
  {
   "cell_type": "code",
   "execution_count": 11,
   "metadata": {
    "autoscroll": "json-false",
    "collapsed": false,
    "ein.tags": [
     "worksheet-0"
    ]
   },
   "outputs": [],
   "source": [
    "import wcsaxes"
   ]
  },
  {
   "cell_type": "markdown",
   "metadata": {
    "ein.tags": [
     "worksheet-0"
    ]
   },
   "source": [
    "For this example we are going to use a Hubble image."
   ]
  },
  {
   "cell_type": "code",
   "execution_count": 14,
   "metadata": {
    "autoscroll": "json-false",
    "collapsed": false,
    "ein.tags": [
     "worksheet-0"
    ]
   },
   "outputs": [
    {
     "data": {
      "text/plain": [
       "[<astropy.io.fits.hdu.image.PrimaryHDU at 0x7f3949fb7a10>]"
      ]
     },
     "execution_count": 14,
     "metadata": {},
     "output_type": "execute_result"
    }
   ],
   "source": [
    "from astropy.io import fits\n",
    "\n",
    "hdulist = fits.open('./h_n4571_f555_mosaic.fits.gz')\n",
    "hdulist"
   ]
  },
  {
   "cell_type": "code",
   "execution_count": 15,
   "metadata": {
    "autoscroll": "json-false",
    "collapsed": false,
    "ein.tags": [
     "worksheet-0"
    ]
   },
   "outputs": [],
   "source": [
    "wcs = WCS(hdulist[0].header)"
   ]
  },
  {
   "cell_type": "code",
   "execution_count": 16,
   "metadata": {
    "autoscroll": "json-false",
    "collapsed": false,
    "ein.tags": [
     "worksheet-0"
    ]
   },
   "outputs": [],
   "source": [
    "%matplotlib inline\n",
    "import matplotlib.pyplot as plt"
   ]
  },
  {
   "cell_type": "code",
   "execution_count": 17,
   "metadata": {
    "autoscroll": "json-false",
    "collapsed": false,
    "ein.tags": [
     "worksheet-0"
    ]
   },
   "outputs": [
    {
     "data": {
      "text/plain": [
       "<matplotlib.image.AxesImage at 0x7f3949ea77d0>"
      ]
     },
     "execution_count": 17,
     "metadata": {},
     "output_type": "execute_result"
    },
    {
     "data": {
      "image/png": "[encoded data removed]",
      "text/plain": [
       "<matplotlib.figure.Figure at 0x7f3949fab550>"
      ]
     },
     "metadata": {},
     "output_type": "display_data"
    }
   ],
   "source": [
    "ax = plt.subplot(111, projection=wcs)\n",
    "ax.imshow(hdulist[0].data, cmap='gray', vmax=1000, interpolation=None, origin='lower')"
   ]
  },
  {
   "cell_type": "markdown",
   "metadata": {
    "ein.tags": [
     "worksheet-0"
    ]
   },
   "source": [
    "This image now has physcial labels in the native coordinate system of the image. We can see what the coordinate system and projection of this image is using the 'CTYPE' header entries we saw earlier."
   ]
  },
  {
   "cell_type": "code",
   "execution_count": 18,
   "metadata": {
    "autoscroll": "json-false",
    "collapsed": false,
    "ein.tags": [
     "worksheet-0"
    ]
   },
   "outputs": [
    {
     "name": "stdout",
     "output_type": "stream",
     "text": [
      "RA---TAN DEC--TAN\n"
     ]
    }
   ],
   "source": [
    "print(hdulist[0].header['CTYPE1'], hdulist[0].header['CTYPE2'])"
   ]
  },
  {
   "cell_type": "markdown",
   "metadata": {
    "ein.tags": [
     "worksheet-0"
    ]
   },
   "source": [
    "We can tell that this is in the FK5 coordinate system by the presence of a 'equinox' entry in the header:"
   ]
  },
  {
   "cell_type": "code",
   "execution_count": 23,
   "metadata": {
    "autoscroll": "json-false",
    "collapsed": false,
    "ein.tags": [
     "worksheet-0"
    ]
   },
   "outputs": [
    {
     "data": {
      "text/plain": [
       "2000.0"
      ]
     },
     "execution_count": 23,
     "metadata": {},
     "output_type": "execute_result"
    }
   ],
   "source": [
    "hdulist[0].header['equinox']"
   ]
  },
  {
   "cell_type": "markdown",
   "metadata": {
    "ein.tags": [
     "worksheet-0"
    ]
   },
   "source": [
    "There is also a quick way to generate an Astropy coordinate frame from a WCS object, which confirms this diagnosis."
   ]
  },
  {
   "cell_type": "code",
   "execution_count": 24,
   "metadata": {
    "autoscroll": "json-false",
    "collapsed": false,
    "ein.tags": [
     "worksheet-0"
    ]
   },
   "outputs": [
    {
     "data": {
      "text/plain": [
       "<FK5 Frame (equinox=2000.0)>"
      ]
     },
     "execution_count": 24,
     "metadata": {},
     "output_type": "execute_result"
    }
   ],
   "source": [
    "from astropy.wcs.utils import wcs_to_celestial_frame\n",
    "wcs_to_celestial_frame(wcs)"
   ]
  },
  {
   "cell_type": "markdown",
   "metadata": {
    "ein.tags": [
     "worksheet-0"
    ]
   },
   "source": [
    "for more information on the very useful `astropy.coordinates` module see http://docs.astropy.org/en/stable/coordinates/"
   ]
  },
  {
   "cell_type": "markdown",
   "metadata": {
    "ein.tags": [
     "worksheet-0"
    ]
   },
   "source": [
    "<section class=\"objectives panel panel-success\">\n",
    "<div class=\"panel-heading\">\n",
    "<h2><span class=\"fa fa-pencil\"></span> Add some labels </h2>\n",
    "</div>\n",
    "<br/>\n",
    "Now we have a nice plot with physically meaningful ticks, we should label our axes.\n",
    "<br/>\n",
    "\n",
    "Add labels to the axes saying \"Right Ascension [degrees]\" and \"Declination [degrees]\"\n",
    "<br/>\n",
    "\n",
    "Also overlay a coordinate grid using:\n",
    "<code>ax.coords.grid(color='white', alpha=0.5, linestyle='solid') </code>\n",
    "<br/>\n",
    "</section>"
   ]
  },
  {
   "cell_type": "code",
   "execution_count": 30,
   "metadata": {
    "autoscroll": "json-false",
    "collapsed": false,
    "ein.tags": [
     "worksheet-0"
    ]
   },
   "outputs": [
    {
     "data": {
      "image/png": "[encoded data removed]",
      "text/plain": [
       "<matplotlib.figure.Figure at 0x7f3949afba90>"
      ]
     },
     "metadata": {},
     "output_type": "display_data"
    }
   ],
   "source": [
    "ax = plt.subplot(111, projection=wcs)\n",
    "ax.imshow(hdulist[0].data, cmap='gray', vmax=1000, interpolation=None, origin='lower')\n",
    "ax.set_xlabel(\"Right Ascension [degrees]\")\n",
    "ax.set_ylabel(\"Declination [degrees]\")\n",
    "ax.coords.grid(color='white', alpha=0.5, linestyle='solid')"
   ]
  },
  {
   "cell_type": "markdown",
   "metadata": {
    "ein.tags": [
     "worksheet-0"
    ]
   },
   "source": [
    "## Combining WCS and wcsaxes"
   ]
  },
  {
   "cell_type": "markdown",
   "metadata": {
    "ein.tags": [
     "worksheet-0"
    ]
   },
   "source": [
    "Now we have a nice plot, we can do a couple of things to plot."
   ]
  },
  {
   "cell_type": "markdown",
   "metadata": {
    "ein.tags": [
     "worksheet-0"
    ]
   },
   "source": [
    "### Overplotting in Pixel Coordinates"
   ]
  },
  {
   "cell_type": "code",
   "execution_count": 29,
   "metadata": {
    "autoscroll": "json-false",
    "collapsed": false,
    "ein.tags": [
     "worksheet-0"
    ]
   },
   "outputs": [
    {
     "data": {
      "image/png": "[encoded data removed]",
      "text/plain": [
       "<matplotlib.figure.Figure at 0x7f3945933ad0>"
      ]
     },
     "metadata": {},
     "output_type": "display_data"
    },
    {
     "data": {
      "text/plain": [
       "[<matplotlib.lines.Line2D at 0x7f39457eb390>]"
      ]
     },
     "execution_count": 29,
     "metadata": {},
     "output_type": "execute_result"
    }
   ],
   "source": [
    "ax = plt.subplot(111, projection=wcs)\n",
    "ax.imshow(hdulist[0].data, cmap='gray', vmax=1000, interpolation=None, origin='lower')\n",
    "ax.set_xlabel(\"Right Ascension [degrees]\")\n",
    "ax.set_ylabel(\"Declination [degrees]\")\n",
    "ax.coords.grid(color='white', alpha=0.5, linestyle='solid')\n",
    "\n",
    "ax.plot(3000, 3000, 'o')"
   ]
  },
  {
   "cell_type": "markdown",
   "metadata": {
    "ein.tags": [
     "worksheet-0"
    ]
   },
   "source": [
    "### Overplotting in World Coordinates"
   ]
  },
  {
   "cell_type": "code",
   "execution_count": 41,
   "metadata": {
    "autoscroll": "json-false",
    "collapsed": false,
    "ein.tags": [
     "worksheet-0"
    ]
   },
   "outputs": [
    {
     "data": {
      "image/png": "[encoded data removed]",
      "text/plain": [
       "<matplotlib.figure.Figure at 0x7f3945860910>"
      ]
     },
     "metadata": {},
     "output_type": "display_data"
    },
    {
     "data": {
      "text/plain": [
       "[<matplotlib.lines.Line2D at 0x7f3945289150>]"
      ]
     },
     "execution_count": 41,
     "metadata": {},
     "output_type": "execute_result"
    }
   ],
   "source": [
    "ax = plt.subplot(111, projection=wcs)\n",
    "ax.imshow(hdulist[0].data, cmap='gray', vmax=1000, interpolation=None, origin='lower')\n",
    "ax.set_xlabel(\"Right Ascension [degrees]\")\n",
    "ax.set_ylabel(\"Declination [degrees]\")\n",
    "ax.coords.grid(color='white', alpha=0.5, linestyle='solid')\n",
    "\n",
    "ax.plot(3000, 3000, 'o')\n",
    "ax.plot(189.25, 14.23, 'o', transform=ax.get_transform('world'))"
   ]
  },
  {
   "cell_type": "code",
   "execution_count": 0,
   "metadata": {
    "autoscroll": "json-false",
    "collapsed": false,
    "ein.tags": [
     "worksheet-0"
    ]
   },
   "outputs": [],
   "source": []
  }
 ],
 "metadata": {
  "kernelspec": {
   "display_name": "Environment (sunpy-dev)",
   "language": "",
   "name": "sunpy-dev"
  },
  "language_info": {
   "codemirror_mode": {
    "name": "ipython",
    "version": 2
   },
   "file_extension": ".py",
   "mimetype": "text/x-python",
   "name": "python",
   "nbconvert_exporter": "python",
   "pygments_lexer": "ipython2",
   "version": "2.7.11"
  },
  "name": "Astro_Images.ipynb"
 },
 "nbformat": 4,
 "nbformat_minor": 0
}
