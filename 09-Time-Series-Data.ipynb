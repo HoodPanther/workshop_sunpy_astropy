{
 "cells": [
  {
   "cell_type": "markdown",
   "metadata": {},
   "source": [
    "# Handling Data over time\n",
    "\n",
    "There's a widespread trend in solar physics at the moment for correlation over actual science, so being able to handle data over time spans is a skill we all need to have. Python has ample support for this so lets have a look at wjat we can use.\n",
    "\n",
    "So lets import some data to handle:"
   ]
  },
  {
   "cell_type": "code",
   "execution_count": 2,
   "metadata": {
    "collapsed": false
   },
   "outputs": [],
   "source": [
    "from __future__ import print_function, division\n",
    "import numpy as np\n",
    "\n",
    "data = np.genfromtxt('macrospicules.csv', skip_header=1, dtype=None, delimiter=',')"
   ]
  },
  {
   "cell_type": "markdown",
   "metadata": {},
   "source": [
    "Now, the above line imports information on some solar features over a sample time period. Specifically we have, maximum length, lifetime and time at which they occured. Now if we type `data[0]` what will happen?"
   ]
  },
  {
   "cell_type": "code",
   "execution_count": 3,
   "metadata": {
    "collapsed": false
   },
   "outputs": [
    {
     "data": {
      "text/plain": [
       "(27.022617088020528, 13.6, '2010-06-01T13:00:14.120000')"
      ]
     },
     "execution_count": 3,
     "metadata": {},
     "output_type": "execute_result"
    }
   ],
   "source": [
    "data[0]"
   ]
  },
  {
   "cell_type": "markdown",
   "metadata": {},
   "source": [
    "This is the first row of the array, containing the first element of our three properties. This particular example is a stuctured array, so the columns and rows can have properties and assign properties to the header. We can ask what the title of these columns is by using a `dtype` command:"
   ]
  },
  {
   "cell_type": "code",
   "execution_count": 4,
   "metadata": {
    "collapsed": false
   },
   "outputs": [
    {
     "data": {
      "text/plain": [
       "('f0', 'f1', 'f2')"
      ]
     },
     "execution_count": 4,
     "metadata": {},
     "output_type": "execute_result"
    }
   ],
   "source": [
    "data.dtype.names"
   ]
  },
  {
   "cell_type": "markdown",
   "metadata": {},
   "source": [
    "Unhelpful, so lets give them something more recognisable. We can use the docs to look up syntax and change the names of the column lables.\n",
    "<br/>\n",
    "<section class=\"objectives panel panel-success\">\n",
    "<div class=\"panel-heading\">\n",
    "<h2><span class=\"fa fa-pencil\"></span> Google your troubles away </h2>\n",
    "</div>\n",
    "<br/>\n",
    "So the docs are [here](http://docs.scipy.org/doc/numpy-1.10.0/reference/generated/numpy.genfromtxt.html). Find the syntax to change to names to something to represent maximum length, lifetime and point in time which they occured.\n",
    "<br/>\n",
    "</section>"
   ]
  },
  {
   "cell_type": "code",
   "execution_count": 5,
   "metadata": {
    "collapsed": false
   },
   "outputs": [
    {
     "data": {
      "text/plain": [
       "array([ 27.02261709,  36.20809658,  62.93289752,  38.97054949,\n",
       "        53.58942032,  30.6401107 ,  34.62323773,  25.76578452,\n",
       "        42.55229885,  43.78096232,  32.07478058,  46.32895236,\n",
       "        41.81948071,  36.15639728,  27.76449747,  28.36338204,\n",
       "        46.24264885,  31.66963787,  37.98509124,  41.10763789,\n",
       "        36.31153664,  63.94515322,  33.20603032,  45.12547627,\n",
       "        45.59984305,  44.13747471,  39.05135355,  42.70997285,\n",
       "        22.00943851,  45.70103315,  40.61460622,  53.58952877,\n",
       "        33.55068528,  34.12704163,  28.84501455,  33.50857898,\n",
       "        33.04991294,  43.14772776,  64.7263967 ,  58.4113328 ,\n",
       "        26.51897508,  38.16891551,  53.91004427,  38.66085552,\n",
       "        27.32363074,  34.82350067,  49.29044968,  44.55780869,\n",
       "        30.01404343,  33.79223954,  37.02116485,  28.72061961,\n",
       "        29.21863497,  55.72629452,  54.57759503,  45.33884703,\n",
       "        50.69244379,  33.25632341,  37.73000783,  26.92855622,\n",
       "        52.49096835,  63.49966052,  36.13680388,  61.63887853,\n",
       "        44.4662083 ,  29.52452638,  43.23969955,  41.65026311,\n",
       "        52.16598344,  42.67412936,  41.81910611,  34.49493977,\n",
       "        35.78882006,  45.59188682,  39.26216985,  35.10139159,\n",
       "        38.14667516,  46.09430341,  50.44398261,  46.41930315,\n",
       "        43.99951416,  31.10082419,  45.43674785,  38.78414481,\n",
       "        36.03072435,  39.52956702,  28.94948495,  36.16831602,\n",
       "        54.90157329,  49.35714339,  45.9207131 ,  36.33602522,\n",
       "        47.81325513,  30.02565172,  22.4376017 ,  25.77671126,\n",
       "        22.09750136,  51.10043568,  52.13571082,  35.70298287,\n",
       "        34.73403574,  40.74477779,  38.34861845,  22.82335936,\n",
       "        27.30678373,  27.42834706,  23.27232254,  29.83005671,\n",
       "        36.08121426,  50.04105014,  33.14161453,  29.2621644 ,\n",
       "        26.55148777,  36.15467202,  26.06766701,  27.37302807,\n",
       "        30.56321175,  26.83143584,  37.11331356,  30.79380358,\n",
       "        32.89179738,  28.89730285,  33.0527976 ,  25.57069612,\n",
       "        44.20414097,  28.68038005,  25.11419547,  23.78793994,\n",
       "        26.60399083,  36.72695416,  44.35566025,  41.37507269,\n",
       "        31.08485597,  39.71759583,  47.36372856,  42.72431429,\n",
       "        30.49807689,  37.4604915 ,  39.65240926,  37.26885237,\n",
       "        41.50380626,  29.8313709 ,  43.02721083,  33.23966863,\n",
       "        28.73848974,  41.28193776,  44.80971415,  50.10792885,\n",
       "        37.79992144,  54.59165111,  31.60523881,  36.31252683,\n",
       "        44.25298922,  51.02121661,  34.20351256,  39.24552078,\n",
       "        43.71189706,  36.40843056,  34.02240796,  39.27977921,\n",
       "        54.66979248,  65.7384905 ,  53.01413049,  34.17031127,\n",
       "        47.00239714,  17.32168005,  44.68585728,  29.44389171,\n",
       "        40.80497941,  34.6572607 ,  42.62526043,  37.36422913,\n",
       "        31.17786476,  28.12867393,  30.40163346,  30.51526168,\n",
       "        35.9876376 ,  23.08802156,  40.76121653,  21.0614616 ,\n",
       "        37.30928468,  33.74493288,  23.37625041,  23.26285756,\n",
       "        21.90478831,  31.46692441,  24.02288547,  32.79270784,\n",
       "        30.07317007,  29.7039241 ,  34.13671581,  50.58575418,\n",
       "        34.97447555,  24.51408577,  48.26530071,  41.1800655 ,\n",
       "        38.59687577,  28.32914516,  26.86404795,  29.09491492,\n",
       "        22.1925731 ,  26.6573342 ,  34.45652454,  29.52441516,\n",
       "        26.05330498,  16.91583914,  24.09964195,  27.83367552,\n",
       "        21.83934023,  24.08621306,  21.4539239 ,  50.23369701,\n",
       "        22.20207407,  24.5242085 ,  28.29914756,  25.40145715,\n",
       "        35.59277051,  32.59279863,  31.24484412,  46.45496714,\n",
       "        25.81684312,  23.82663323,  25.75515713,  27.49177445,\n",
       "        38.48352531,  29.50744816,  54.12496571,  40.63961711,\n",
       "        37.23678458,  34.68878712,  31.37594022,  26.97844296,\n",
       "        38.23975554,  38.90287314,  24.01076136,  37.26779816,\n",
       "        35.0705135 ,  29.1850186 ,  40.49388844,  33.4466624 ,\n",
       "        28.94498308,  22.75986112,  32.27371125,  27.51808194,\n",
       "        45.9195814 ,  37.40509992,  36.5449928 ,  44.1242809 ,\n",
       "        41.54289686,  40.40254961,  33.47264368,  34.01641674,\n",
       "        37.52700525,  44.02589254,  40.08500945,  29.29270305,\n",
       "        41.57391536,  44.2470371 ,  55.54916983])"
      ]
     },
     "execution_count": 5,
     "metadata": {},
     "output_type": "execute_result"
    }
   ],
   "source": [
    "data.dtype.names = ('max_len', 'ltime', 'sample_time')\n",
    "data['max_len']"
   ]
  },
  {
   "cell_type": "markdown",
   "metadata": {},
   "source": [
    "## Pandas\n",
    "\n",
    "In its own words Pandas is a Python package providing fast, flexible, and expressive data structures designed to make working with “relational” or “labeled” data both easy and intuitive. Pandas has two forms of structures, 1D series and 2D dataframe. Now can you count the number of times you literally just have 1 column of data? So we're going to focus on the data frame aspect.\n",
    "\n",
    "Now a pandas dataframe takes two arguments as a minimum, index and data. In this case the index will be our time within the sample and the maximum length and lifetime will be our data. So lets import pandas and use the dataframe:\n",
    "\n",
    "\n",
    "<section class=\"objectives panel panel-warning\">\n",
    "<div class=\"panel-heading\">\n",
    "<h2><span class=\"fa fa-certificate\"></span> Dictionaries </h2>\n",
    "</div>\n",
    "<br/>\n",
    "So we covered dictionaries earlier. We can create keyword data pairs to form a dictionary (shock horror) of values. In this case \n",
    "<code>\n",
    "temps = {'Brussles': 9, 'London': 3, 'Barcelona': 13, 'Rome': 16}\n",
    "temps['Rome']\n",
    ">>> 16\n",
    "</code>\n",
    "<br/>\n",
    "</section>\n",
    "\n",
    "Now pandas reads a dictionary when we want to input multiple data columns. Therefore we need to make a dictionary of our data and read that into a pandas data frame. First however though we need to import pandas.\n"
   ]
  },
  {
   "cell_type": "code",
   "execution_count": 6,
   "metadata": {
    "collapsed": false
   },
   "outputs": [
    {
     "name": "stdout",
     "output_type": "stream",
     "text": [
      "                                ltime    max_len\n",
      "2010-06-01T13:00:14.120000  13.600000  27.022617\n",
      "2010-06-01T12:58:02.120000   8.400000  36.208097\n",
      "2010-06-15T12:55:02.110000  24.199833  62.932898\n",
      "2010-07-07T12:23:50.110000  22.999667  38.970549\n",
      "2010-07-07T13:28:50.120000  21.799833  53.589420\n",
      "2010-07-15T12:12:02.130000  17.400167  30.640111\n",
      "2010-07-15T12:19:02.110000  12.800000  34.623238\n",
      "2010-07-24T12:09:50.120000  14.200000  25.765785\n",
      "2010-08-01T13:27:14.120000  24.400000  42.552299\n",
      "2010-08-07T12:37:44.120000  15.400000  43.780962\n",
      "2010-08-15T13:10:32.120000  15.199833  32.074781\n",
      "2010-08-24T12:51:44.120000  18.599833  46.328952\n",
      "2010-08-24T13:22:20.120000  15.200000  41.819481\n",
      "2010-09-01T12:43:44.120000  18.800167  36.156397\n",
      "2010-09-15T12:21:20.120000  17.200000  27.764497\n",
      "2010-09-15T12:26:08.120000  20.200000  28.363382\n",
      "2010-09-15T12:33:44.120000  18.800167  46.242649\n",
      "2010-09-15T13:06:32.130000  18.999833  31.669638\n",
      "2010-09-24T12:36:56.120000  18.400000  37.985091\n",
      "2010-10-15T12:32:08.120000  17.799833  41.107638\n",
      "2010-10-24T12:37:08.130000  20.399500  36.311537\n",
      "2010-11-01T12:43:08.130000  26.599833  63.945153\n",
      "2010-11-01T12:55:20.130000  15.999833  33.206030\n",
      "2010-11-07T12:25:20.120000  20.000000  45.125476\n",
      "2010-11-07T13:18:08.120000  12.000000  45.599843\n",
      "2010-11-15T12:10:08.130000  15.000000  44.137475\n",
      "2010-11-15T12:14:44.140000  15.199833  39.051354\n",
      "2010-12-01T13:45:20.140000  22.400000  42.709973\n",
      "2010-12-07T12:09:08.120000  12.800000  22.009439\n",
      "2010-12-15T12:17:08.130000  25.400000  45.701033\n",
      "...                               ...        ...\n",
      "2014-08-01T12:55:31.130000  15.399833  34.688787\n",
      "2014-08-07T12:13:31.130000  18.800167  31.375940\n",
      "2014-08-15T12:09:31.120000  16.600000  26.978443\n",
      "2014-08-15T12:39:07.120000  22.000000  38.239756\n",
      "2014-08-15T13:28:55.120000  21.400000  38.902873\n",
      "2014-08-24T12:36:43.130000  17.600333  24.010761\n",
      "2014-08-24T13:04:55.130000  25.800000  37.267798\n",
      "2014-08-24T13:31:19.120000  16.200167  35.070513\n",
      "2014-09-01T12:31:07.130000  15.200167  29.185019\n",
      "2014-09-01T12:49:31.130000  35.600333  40.493888\n",
      "2014-09-07T13:13:43.120000  14.600000  33.446662\n",
      "2014-09-07T13:26:55.120000  13.200000  28.944983\n",
      "2014-09-07T13:48:19.130000  18.799833  22.759861\n",
      "2014-09-15T12:44:43.120000  15.000333  32.273711\n",
      "2014-09-15T13:24:55.140000  18.400000  27.518082\n",
      "2014-09-24T12:48:19.130000  19.200000  45.919581\n",
      "2014-10-01T12:41:07.130000  21.000000  37.405100\n",
      "2014-10-01T12:58:19.120000  13.200000  36.544993\n",
      "2014-10-07T12:39:55.130000  21.800000  44.124281\n",
      "2014-10-24T12:10:43.130000  18.399833  41.542897\n",
      "2014-11-01T12:29:31.130000  21.600000  40.402550\n",
      "2014-11-15T13:28:19.140000  10.799833  33.472644\n",
      "2014-12-01T13:05:55.120000  14.400000  34.016417\n",
      "2014-12-01T13:46:55.140000  15.400000  37.527005\n",
      "2014-12-07T12:20:55.140000  19.399667  44.025893\n",
      "2014-12-07T13:11:07.120000  13.200000  40.085009\n",
      "2014-12-15T12:07:19.130000  13.400000  29.292703\n",
      "2014-12-15T12:41:19.130000  13.200000  41.573915\n",
      "2014-12-15T13:13:19.130000  17.800167  44.247037\n",
      "2014-12-24T13:14:55.120000  16.999667  55.549170\n",
      "\n",
      "[259 rows x 2 columns]\n"
     ]
    }
   ],
   "source": [
    "import pandas as pd\n",
    "\n",
    "d = {'max_len': data['max_len'], 'ltime': data['ltime']}\n",
    "\n",
    "df = pd.DataFrame(data=d, index=data['sample_time'])\n",
    "print(df)"
   ]
  },
  {
   "cell_type": "markdown",
   "metadata": {},
   "source": [
    "## Datetime Objects\n",
    "\n",
    "Notice that the time for the sample is in a strange format. It is a string containing the date in YYYY-MM-DD and time in HH-MM-SS-mmmmmm. These datetime objects have their own set of methods associated with them. Python appreciates that theses are built this way and can use them for the indexing easily. \n",
    "\n",
    "We can use this module to create timedelta objects and date objects (representing just year, month, day). We can also get information about universal time, such as the time and date today."
   ]
  },
  {
   "cell_type": "code",
   "execution_count": 7,
   "metadata": {
    "collapsed": false
   },
   "outputs": [
    {
     "name": "stdout",
     "output_type": "stream",
     "text": [
      "2016-01-11 14:58:04.936936\n",
      "2016-01-11 14:58:04.937047\n",
      "When is dinner? 2005-07-14 12:30:00\n"
     ]
    }
   ],
   "source": [
    "import datetime\n",
    "print(datetime.datetime.now())\n",
    "print(datetime.datetime.utcnow())\n",
    "lunchtime = datetime.time(12,30)\n",
    "the_date = datetime.date(2005, 7, 14)\n",
    "dinner = datetime.datetime.combine(the_date, lunchtime)\n",
    "\n",
    "print(\"When is dinner? {}\".format(dinner))"
   ]
  },
  {
   "cell_type": "markdown",
   "metadata": {},
   "source": [
    "### So lets do something with the data\n",
    "\n",
    "Pandas has inbuilt methods attached to dataframe, similar to the way we put axes on graphs. Lets take the example of taking a histogram of the data. First things first we need to bin the data according to the index of the file:"
   ]
  },
  {
   "cell_type": "code",
   "execution_count": 8,
   "metadata": {
    "collapsed": false
   },
   "outputs": [
    {
     "ename": "AttributeError",
     "evalue": "'Index' object has no attribute 'year'",
     "output_type": "error",
     "traceback": [
      "\u001b[1;31m---------------------------------------------------------------------------\u001b[0m",
      "\u001b[1;31mAttributeError\u001b[0m                            Traceback (most recent call last)",
      "\u001b[1;32m<ipython-input-8-171ae81b5511>\u001b[0m in \u001b[0;36m<module>\u001b[1;34m()\u001b[0m\n\u001b[1;32m----> 1\u001b[1;33m \u001b[0mbins\u001b[0m \u001b[1;33m=\u001b[0m \u001b[0mpd\u001b[0m\u001b[1;33m.\u001b[0m\u001b[0mgroupby\u001b[0m\u001b[1;33m(\u001b[0m\u001b[0mdf\u001b[0m\u001b[1;33m,\u001b[0m \u001b[0mby\u001b[0m\u001b[1;33m=\u001b[0m\u001b[1;33m[\u001b[0m\u001b[0mdf\u001b[0m\u001b[1;33m.\u001b[0m\u001b[0mindex\u001b[0m\u001b[1;33m.\u001b[0m\u001b[0myear\u001b[0m\u001b[1;33m,\u001b[0m \u001b[0mdf\u001b[0m\u001b[1;33m.\u001b[0m\u001b[0mindex\u001b[0m\u001b[1;33m.\u001b[0m\u001b[0mmonth\u001b[0m\u001b[1;33m]\u001b[0m\u001b[1;33m)\u001b[0m\u001b[1;33m\u001b[0m\u001b[0m\n\u001b[0m",
      "\u001b[1;31mAttributeError\u001b[0m: 'Index' object has no attribute 'year'"
     ]
    }
   ],
   "source": [
    "bins = pd.groupby(df, by=[df.index.year, df.index.month])\n"
   ]
  }
 ],
 "metadata": {
  "kernelspec": {
   "display_name": "Python 2",
   "language": "python2",
   "name": "python2"
  },
  "language_info": {
   "codemirror_mode": {
    "name": "ipython",
    "version": 2
   },
   "file_extension": ".py",
   "mimetype": "text/x-python",
   "name": "python",
   "nbconvert_exporter": "python",
   "pygments_lexer": "ipython2",
   "version": "2.7.11"
  }
 },
 "nbformat": 4,
 "nbformat_minor": 0
}
